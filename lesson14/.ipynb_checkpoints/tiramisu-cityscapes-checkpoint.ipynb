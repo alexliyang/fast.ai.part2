{
 "cells": [
  {
   "cell_type": "code",
   "execution_count": 1,
   "metadata": {
    "collapsed": false
   },
   "outputs": [
    {
     "name": "stderr",
     "output_type": "stream",
     "text": [
      "Using TensorFlow backend.\n",
      "/root/anaconda3/envs/tf_1.0/lib/python3.5/site-packages/sklearn/cross_validation.py:44: DeprecationWarning: This module was deprecated in version 0.18 in favor of the model_selection module into which all the refactored classes and functions are moved. Also note that the interface of the new CV iterators are different from that of this module. This module will be removed in 0.20.\n",
      "  \"This module will be removed in 0.20.\", DeprecationWarning)\n"
     ]
    }
   ],
   "source": [
    "%matplotlib inline\n",
    "import importlib\n",
    "import utils2; importlib.reload(utils2)\n",
    "from utils2 import *"
   ]
  },
  {
   "cell_type": "code",
   "execution_count": 2,
   "metadata": {
    "collapsed": true
   },
   "outputs": [],
   "source": [
    "limit_mem()"
   ]
  },
  {
   "cell_type": "markdown",
   "metadata": {},
   "source": [
    "### Tiramisu / Cityscapes dataset"
   ]
  },
  {
   "cell_type": "code",
   "execution_count": 27,
   "metadata": {
    "collapsed": true
   },
   "outputs": [],
   "source": [
    "# Setup for training images\n",
    "PATH = '/data2/cityscapes_dataset/leftImg8bit/'"
   ]
  },
  {
   "cell_type": "code",
   "execution_count": 28,
   "metadata": {
    "collapsed": false
   },
   "outputs": [],
   "source": [
    "# Setup for training images\n",
    "PATH = '/data2/cityscapes_dataset/leftImg8bit/'\n",
    "frames_path = PATH+'all_train_images/'\n",
    "labels_path = PATH+'all_train_gt_id2trainid/'\n",
    "\n",
    "\n",
    "# fnames: file name of each training image\n",
    "fnames = glob.glob(frames_path+'*.png')\n",
    "lnames = glob.glob(labels_path+'*.png')\n",
    "#lnames = [labels_path+os.path.basename(fn) for fn in fnames]\n",
    "#img_sz = (2048, 1024)\n",
    "img_sz = (480,360)\n",
    "\n",
    "def open_image(fn): return np.array(Image.open(fn).resize(img_sz, Image.NEAREST))\n",
    "\n",
    "imgs = np.stack([open_image(fn) for fn in fnames])\n",
    "labels = np.stack([open_image(fn) for fn in lnames])\n",
    "imgs = imgs / 255."
   ]
  },
  {
   "cell_type": "code",
   "execution_count": 29,
   "metadata": {
    "collapsed": true
   },
   "outputs": [],
   "source": [
    "# save bcolz carray: imgs.bc\n",
    "save_array(PATH+'save_var/imgs.bc', imgs)\n",
    "# save bcolz carray: labels.bc\n",
    "save_array(PATH+'save_var/labels.bc',labels)"
   ]
  },
  {
   "cell_type": "code",
   "execution_count": null,
   "metadata": {
    "collapsed": true
   },
   "outputs": [],
   "source": []
  },
  {
   "cell_type": "code",
   "execution_count": 30,
   "metadata": {
    "collapsed": true
   },
   "outputs": [],
   "source": [
    "# Setup for val images\n",
    "PATH = '/data/CityScrapes_dataset/cityscapes/leftImg8bit/'\n",
    "val_frames_path = PATH+'all_val_images/'\n",
    "val_labels_path = PATH+'all_val_gt_id2trainid/'\n",
    "\n",
    "\n",
    "# fnames: file name of each training image\n",
    "val_fnames = glob.glob(val_frames_path+'*.png')\n",
    "val_lnames = glob.glob(val_labels_path+'*.png')\n",
    "#img_sz = (2048, 1024)\n",
    "img_sz = (480,360)\n",
    "\n",
    "def open_image(fn): return np.array(Image.open(fn).resize(img_sz, Image.NEAREST))\n",
    "\n",
    "val_imgs = np.stack([open_image(fn) for fn in val_fnames])\n",
    "val_labels = np.stack([open_image(fn) for fn in val_lnames])\n",
    "\n",
    "val_imgs = val_imgs/255."
   ]
  },
  {
   "cell_type": "code",
   "execution_count": 31,
   "metadata": {
    "collapsed": true
   },
   "outputs": [],
   "source": [
    "# use bcolz carray: val_imgs.bc\n",
    "save_array(PATH+'save_var/val_imgs.bc', val_imgs)\n",
    "# use bcolz carray: val_labels.bc\n",
    "save_array(PATH+'save_var/val_labels.bc', val_labels)"
   ]
  },
  {
   "cell_type": "code",
   "execution_count": null,
   "metadata": {
    "collapsed": true
   },
   "outputs": [],
   "source": []
  },
  {
   "cell_type": "code",
   "execution_count": 19,
   "metadata": {
    "collapsed": true
   },
   "outputs": [],
   "source": [
    "# load bcolz carray\n",
    "PATH = '/data2/cityscapes_dataset/leftImg8bit/'\n",
    "imgs = load_array(PATH+'save_var/imgs.bc')\n",
    "labels = load_array(PATH+'save_var/labels.bc')\n",
    "val_imgs = load_array(PATH+'save_var/val_imgs.bc')\n",
    "val_labels = load_array(PATH+'save_var/val_labels.bc')"
   ]
  },
  {
   "cell_type": "code",
   "execution_count": 32,
   "metadata": {
    "collapsed": true
   },
   "outputs": [],
   "source": [
    "OUT_SIZE = (224,224)\n",
    "# Preprocessing\n",
    "\n",
    "# Generator demo\n",
    "class BatchIndices(object):\n",
    "    def __init__(self, n, bs, shuffle=False):\n",
    "        self.n,self.bs,self.shuffle = n,bs,shuffle\n",
    "        self.lock = threading.Lock()\n",
    "        self.reset()\n",
    "\n",
    "    def reset(self):\n",
    "        self.idxs = (np.random.permutation(self.n) \n",
    "                     if self.shuffle else np.arange(0, self.n))\n",
    "        self.curr = 0\n",
    "\n",
    "    def __next__(self):\n",
    "        with self.lock:\n",
    "            if self.curr >= self.n: self.reset()\n",
    "            ni = min(self.bs, self.n-self.curr)\n",
    "            res = self.idxs[self.curr:self.curr+ni]\n",
    "            self.curr += ni\n",
    "            return res\n",
    "        \n",
    "# segmentation generator\n",
    "class segm_generator(object):\n",
    "    def __init__(self, x, y, bs=64, out_sz=OUT_SIZE, train=True):\n",
    "        self.x, self.y, self.bs, self.train = x,y,bs,train\n",
    "        self.n, self.ri, self.ci, _ = x.shape\n",
    "        self.idx_gen = BatchIndices(self.n, bs, train)\n",
    "        self.ro, self.co = out_sz\n",
    "        self.ych = self.y.shape[-1] if len(y.shape)==4 else 1\n",
    "\n",
    "    def get_slice(self, i,o):\n",
    "        start = random.randint(0, i-o) if self.train else (i-o)\n",
    "        return slice(start, start+o)\n",
    "\n",
    "    def get_item(self, idx):\n",
    "        slice_r = self.get_slice(self.ri, self.ro)\n",
    "        slice_c = self.get_slice(self.ci, self.co)\n",
    "        x = self.x[idx, slice_r, slice_c]\n",
    "        y = self.y[idx, slice_r, slice_c]\n",
    "        if self.train and (random.random()>0.5): \n",
    "            y = y[:,::-1]\n",
    "            x = x[:,::-1]\n",
    "        return x, y\n",
    "\n",
    "    def __next__(self):\n",
    "        idxs = next(self.idx_gen)\n",
    "        items = (self.get_item(idx) for idx in idxs)\n",
    "        xs,ys = zip(*items)\n",
    "        return np.stack(xs), np.stack(ys).reshape(len(ys), -1, self.ych)"
   ]
  },
  {
   "cell_type": "code",
   "execution_count": 33,
   "metadata": {
    "collapsed": true
   },
   "outputs": [],
   "source": [
    "# label name and label color codes for Cityscapes\n",
    "label_names = ['road', 'sidewalk', 'building',\n",
    "               'wall', 'fence', 'pole',\n",
    "               'traffic light', 'traffic sign', 'vegetation', \n",
    "               'terrain', 'sky', 'person',\n",
    "               'rider', 'car', 'truck',\n",
    "               'bus', 'train', 'motorcycle', \n",
    "               'bicycle']       \n",
    "\n",
    "label_codes = [(128, 64,128),\n",
    "               (244, 35,232),\n",
    "               ( 70, 70, 70),\n",
    "               (102,102,156),\n",
    "               (190,153,153),\n",
    "               (153,153,153),\n",
    "               (250,170, 30),\n",
    "               (220,220,  0),\n",
    "               (107,142, 35),\n",
    "               (152,251,152),\n",
    "               ( 70,130,180),\n",
    "               (220, 20, 60),\n",
    "               (255,  0,  0),\n",
    "               (  0,  0,142),\n",
    "               (  0,  0, 70),\n",
    "               (  0, 60,100),\n",
    "               (  0, 80,100),\n",
    "               (  0,  0,230),\n",
    "               (119, 11, 32)]"
   ]
  },
  {
   "cell_type": "code",
   "execution_count": 34,
   "metadata": {
    "collapsed": true
   },
   "outputs": [],
   "source": [
    "# convert id label to color label\n",
    "def color_label(a): \n",
    "    r,c=a.shape\n",
    "    res = np.zeros((r,c,3), 'uint8')\n",
    "    for j in range(r): \n",
    "        for k in range(c):\n",
    "            o=label_codes[a[j,k]]\n",
    "            res[j,k] = o\n",
    "    return res"
   ]
  },
  {
   "cell_type": "code",
   "execution_count": 35,
   "metadata": {
    "collapsed": true
   },
   "outputs": [],
   "source": [
    "# Prepare for trn(training images) and trn_labels(training 'id' labels)\n",
    "trn = imgs\n",
    "trn_labels = labels\n",
    "\n",
    "# Prepare for val(val images) and val_labels(val 'id' labels)\n",
    "val = val_imgs\n",
    "\n",
    "# number of training and val images\n",
    "rnd_trn = len(trn_labels)\n",
    "rnd_val = len(val_labels)              "
   ]
  },
  {
   "cell_type": "code",
   "execution_count": 36,
   "metadata": {
    "collapsed": false
   },
   "outputs": [
    {
     "data": {
      "text/plain": [
       "(2975, 500)"
      ]
     },
     "execution_count": 36,
     "metadata": {},
     "output_type": "execute_result"
    }
   ],
   "source": [
    "rnd_trn, rnd_val"
   ]
  },
  {
   "cell_type": "code",
   "execution_count": 37,
   "metadata": {
    "collapsed": false
   },
   "outputs": [],
   "source": [
    "## The Tiramisu network\n",
    "def relu(x): return Activation('relu')(x)\n",
    "def dropout(x, p): return Dropout(p)(x) if p else x\n",
    "#def bn(x): return BatchNormalization(mode=2, axis=-1)(x)\n",
    "def bn(x): return x\n",
    "def relu_bn(x): return relu(bn(x))\n",
    "def concat(xs): return merge(xs, mode='concat', concat_axis=-1)\n",
    "\n",
    "def conv(x, nf, sz, wd, p, stride=1): \n",
    "    x = Convolution2D(nf, sz, sz, init='he_uniform', border_mode='same', \n",
    "                      subsample=(stride,stride), W_regularizer=l2(wd))(x)\n",
    "    return dropout(x, p)\n",
    "\n",
    "def conv_relu_bn(x, nf, sz=3, wd=0, p=0, stride=1): \n",
    "    return conv(relu_bn(x), nf, sz, wd=wd, p=p, stride=stride)\n",
    "\n",
    "def dense_block(n,x,growth_rate,p,wd):\n",
    "    added = []\n",
    "    for i in range(n):\n",
    "        b = conv_relu_bn(x, growth_rate, p=p, wd=wd)\n",
    "        x = concat([x, b])\n",
    "        added.append(b)\n",
    "    return x,added\n",
    "\n",
    "def transition_dn(x, p, wd):\n",
    "#     x = conv_relu_bn(x, x.get_shape().as_list()[-1], sz=1, p=p, wd=wd)\n",
    "#     return MaxPooling2D(strides=(2, 2))(x)\n",
    "    return conv_relu_bn(x, x.get_shape().as_list()[-1], sz=1, p=p, wd=wd, stride=2)\n",
    "\n",
    "def down_path(x, nb_layers, growth_rate, p, wd):\n",
    "    skips = []\n",
    "    for i,n in enumerate(nb_layers):\n",
    "        x,added = dense_block(n,x,growth_rate,p,wd)\n",
    "        skips.append(x)\n",
    "        x = transition_dn(x, p=p, wd=wd)\n",
    "    return skips, added\n",
    "\n",
    "def transition_up(added, wd=0):\n",
    "    x = concat(added)\n",
    "    _,r,c,ch = x.get_shape().as_list()\n",
    "    return Deconvolution2D(ch, 3, 3, (None,r*2,c*2,ch), init='he_uniform', \n",
    "               border_mode='same', subsample=(2,2), W_regularizer=l2(wd))(x)\n",
    "#     x = UpSampling2D()(x)\n",
    "#     return conv(x, ch, 2, wd, 0)\n",
    "\n",
    "def up_path(added, skips, nb_layers, growth_rate, p, wd):\n",
    "    for i,n in enumerate(nb_layers):\n",
    "        x = transition_up(added, wd)\n",
    "        x = concat([x,skips[i]])\n",
    "        x,added = dense_block(n,x,growth_rate,p,wd)\n",
    "    return x\n",
    "\n",
    "## Build the tiramisu model\n",
    "def reverse(a): return list(reversed(a))\n",
    "\n",
    "def create_tiramisu(nb_classes, img_input, nb_dense_block=6, \n",
    "    growth_rate=16, nb_filter=48, nb_layers_per_block=5, p=None, wd=0):\n",
    "    \n",
    "    if type(nb_layers_per_block) is list or type(nb_layers_per_block) is tuple:\n",
    "        nb_layers = list(nb_layers_per_block)\n",
    "    else: nb_layers = [nb_layers_per_block] * nb_dense_block\n",
    "\n",
    "    x = conv(img_input, nb_filter, 3, wd, 0)\n",
    "    skips,added = down_path(x, nb_layers, growth_rate, p, wd)\n",
    "    x = up_path(added, reverse(skips[:-1]), reverse(nb_layers[:-1]), growth_rate, p, wd)\n",
    "    \n",
    "    x = conv(x, nb_classes, 1, wd, 0)\n",
    "    _,r,c,f = x.get_shape().as_list()\n",
    "    x = Reshape((-1, nb_classes))(x)\n",
    "    return Activation('softmax')(x)\n",
    "\n",
    "## Train the network\n",
    "limit_mem()\n",
    "input_shape = (224,224,3)\n",
    "img_input = Input(shape=input_shape)\n",
    "\n",
    "x = create_tiramisu(12, img_input, nb_layers_per_block=[4,5,7,10,12,15], p=0.2, wd=1e-4)\n",
    "\n",
    "model = Model(img_input, x)\n",
    "gen = segm_generator(trn, trn_labels, 3, train=True)\n",
    "gen_val = segm_generator(val, val_labels, 3, train=False)\n",
    "model.compile(loss='sparse_categorical_crossentropy', \n",
    "              optimizer=keras.optimizers.RMSprop(1e-3), metrics=[\"accuracy\"])\n",
    "model.optimizer=keras.optimizers.RMSprop(1e-3, decay=1-0.99995)\n",
    "#model.optimizer=keras.optimizers.RMSprop(1e-3)\n",
    "K.set_value(model.optimizer.lr, 1e-3)"
   ]
  },
  {
   "cell_type": "code",
   "execution_count": 38,
   "metadata": {
    "collapsed": false
   },
   "outputs": [
    {
     "name": "stdout",
     "output_type": "stream",
     "text": [
      "Epoch 1/100\n",
      "374s - loss: nan - acc: 0.3960 - val_loss: nan - val_acc: 0.4719\n",
      "Epoch 2/100\n",
      "384s - loss: nan - acc: 0.3986 - val_loss: nan - val_acc: 0.4719\n",
      "Epoch 3/100\n",
      "384s - loss: nan - acc: 0.3918 - val_loss: nan - val_acc: 0.4719\n",
      "Epoch 4/100\n",
      "384s - loss: nan - acc: 0.3932 - val_loss: nan - val_acc: 0.4719\n",
      "Epoch 5/100\n",
      "383s - loss: nan - acc: 0.3882 - val_loss: nan - val_acc: 0.4719\n",
      "Epoch 6/100\n",
      "383s - loss: nan - acc: 0.3942 - val_loss: nan - val_acc: 0.4719\n",
      "Epoch 7/100\n",
      "383s - loss: nan - acc: 0.3981 - val_loss: nan - val_acc: 0.4719\n",
      "Epoch 8/100\n",
      "383s - loss: nan - acc: 0.3927 - val_loss: nan - val_acc: 0.4719\n",
      "Epoch 9/100\n",
      "383s - loss: nan - acc: 0.3924 - val_loss: nan - val_acc: 0.4719\n",
      "Epoch 10/100\n",
      "383s - loss: nan - acc: 0.3935 - val_loss: nan - val_acc: 0.4719\n",
      "Epoch 11/100\n",
      "383s - loss: nan - acc: 0.3908 - val_loss: nan - val_acc: 0.4719\n",
      "Epoch 12/100\n",
      "383s - loss: nan - acc: 0.3938 - val_loss: nan - val_acc: 0.4719\n",
      "Epoch 13/100\n",
      "383s - loss: nan - acc: 0.3962 - val_loss: nan - val_acc: 0.4719\n",
      "Epoch 14/100\n",
      "383s - loss: nan - acc: 0.3955 - val_loss: nan - val_acc: 0.4719\n",
      "Epoch 15/100\n",
      "383s - loss: nan - acc: 0.3937 - val_loss: nan - val_acc: 0.4719\n",
      "Epoch 16/100\n",
      "383s - loss: nan - acc: 0.4005 - val_loss: nan - val_acc: 0.4719\n",
      "Epoch 17/100\n",
      "383s - loss: nan - acc: 0.3962 - val_loss: nan - val_acc: 0.4719\n",
      "Epoch 18/100\n",
      "383s - loss: nan - acc: 0.3953 - val_loss: nan - val_acc: 0.4719\n",
      "Epoch 19/100\n",
      "383s - loss: nan - acc: 0.3965 - val_loss: nan - val_acc: 0.4719\n",
      "Epoch 20/100\n",
      "383s - loss: nan - acc: 0.3964 - val_loss: nan - val_acc: 0.4719\n",
      "Epoch 21/100\n",
      "382s - loss: nan - acc: 0.3922 - val_loss: nan - val_acc: 0.4719\n",
      "Epoch 22/100\n",
      "383s - loss: nan - acc: 0.3939 - val_loss: nan - val_acc: 0.4719\n",
      "Epoch 23/100\n",
      "383s - loss: nan - acc: 0.3979 - val_loss: nan - val_acc: 0.4719\n",
      "Epoch 24/100\n",
      "383s - loss: nan - acc: 0.3953 - val_loss: nan - val_acc: 0.4719\n",
      "Epoch 25/100\n",
      "383s - loss: nan - acc: 0.3931 - val_loss: nan - val_acc: 0.4719\n",
      "Epoch 26/100\n",
      "383s - loss: nan - acc: 0.4000 - val_loss: nan - val_acc: 0.4719\n",
      "Epoch 27/100\n",
      "383s - loss: nan - acc: 0.3991 - val_loss: nan - val_acc: 0.4719\n",
      "Epoch 28/100\n",
      "383s - loss: nan - acc: 0.3984 - val_loss: nan - val_acc: 0.4719\n",
      "Epoch 29/100\n",
      "383s - loss: nan - acc: 0.3974 - val_loss: nan - val_acc: 0.4719\n",
      "Epoch 30/100\n",
      "383s - loss: nan - acc: 0.3951 - val_loss: nan - val_acc: 0.4719\n",
      "Epoch 31/100\n",
      "383s - loss: nan - acc: 0.3915 - val_loss: nan - val_acc: 0.4719\n",
      "Epoch 32/100\n",
      "383s - loss: nan - acc: 0.3974 - val_loss: nan - val_acc: 0.4719\n",
      "Epoch 33/100\n",
      "383s - loss: nan - acc: 0.3930 - val_loss: nan - val_acc: 0.4719\n",
      "Epoch 34/100\n",
      "383s - loss: nan - acc: 0.3934 - val_loss: nan - val_acc: 0.4719\n",
      "Epoch 35/100\n",
      "383s - loss: nan - acc: 0.3899 - val_loss: nan - val_acc: 0.4719\n",
      "Epoch 36/100\n",
      "383s - loss: nan - acc: 0.3961 - val_loss: nan - val_acc: 0.4719\n",
      "Epoch 37/100\n",
      "383s - loss: nan - acc: 0.3968 - val_loss: nan - val_acc: 0.4719\n",
      "Epoch 38/100\n",
      "383s - loss: nan - acc: 0.3928 - val_loss: nan - val_acc: 0.4719\n",
      "Epoch 39/100\n",
      "383s - loss: nan - acc: 0.3964 - val_loss: nan - val_acc: 0.4719\n",
      "Epoch 40/100\n",
      "383s - loss: nan - acc: 0.3984 - val_loss: nan - val_acc: 0.4719\n",
      "Epoch 41/100\n",
      "383s - loss: nan - acc: 0.3956 - val_loss: nan - val_acc: 0.4719\n",
      "Epoch 42/100\n",
      "383s - loss: nan - acc: 0.3997 - val_loss: nan - val_acc: 0.4719\n",
      "Epoch 43/100\n",
      "383s - loss: nan - acc: 0.3913 - val_loss: nan - val_acc: 0.4719\n",
      "Epoch 44/100\n",
      "383s - loss: nan - acc: 0.3930 - val_loss: nan - val_acc: 0.4719\n",
      "Epoch 45/100\n",
      "383s - loss: nan - acc: 0.3939 - val_loss: nan - val_acc: 0.4719\n",
      "Epoch 46/100\n",
      "383s - loss: nan - acc: 0.3893 - val_loss: nan - val_acc: 0.4719\n",
      "Epoch 47/100\n",
      "384s - loss: nan - acc: 0.3925 - val_loss: nan - val_acc: 0.4719\n",
      "Epoch 48/100\n",
      "384s - loss: nan - acc: 0.3969 - val_loss: nan - val_acc: 0.4719\n",
      "Epoch 49/100\n",
      "384s - loss: nan - acc: 0.3968 - val_loss: nan - val_acc: 0.4719\n",
      "Epoch 50/100\n",
      "384s - loss: nan - acc: 0.3968 - val_loss: nan - val_acc: 0.4719\n",
      "Epoch 51/100\n",
      "384s - loss: nan - acc: 0.3963 - val_loss: nan - val_acc: 0.4719\n",
      "Epoch 52/100\n",
      "383s - loss: nan - acc: 0.3956 - val_loss: nan - val_acc: 0.4719\n",
      "Epoch 53/100\n",
      "383s - loss: nan - acc: 0.3974 - val_loss: nan - val_acc: 0.4719\n",
      "Epoch 54/100\n",
      "384s - loss: nan - acc: 0.3925 - val_loss: nan - val_acc: 0.4719\n",
      "Epoch 55/100\n",
      "384s - loss: nan - acc: 0.3965 - val_loss: nan - val_acc: 0.4719\n",
      "Epoch 56/100\n",
      "384s - loss: nan - acc: 0.3957 - val_loss: nan - val_acc: 0.4719\n",
      "Epoch 57/100\n",
      "384s - loss: nan - acc: 0.3961 - val_loss: nan - val_acc: 0.4719\n",
      "Epoch 58/100\n",
      "384s - loss: nan - acc: 0.3984 - val_loss: nan - val_acc: 0.4719\n",
      "Epoch 59/100\n",
      "384s - loss: nan - acc: 0.3956 - val_loss: nan - val_acc: 0.4719\n",
      "Epoch 60/100\n",
      "384s - loss: nan - acc: 0.3943 - val_loss: nan - val_acc: 0.4719\n",
      "Epoch 61/100\n",
      "384s - loss: nan - acc: 0.3951 - val_loss: nan - val_acc: 0.4719\n",
      "Epoch 62/100\n",
      "384s - loss: nan - acc: 0.3972 - val_loss: nan - val_acc: 0.4719\n",
      "Epoch 63/100\n",
      "384s - loss: nan - acc: 0.3904 - val_loss: nan - val_acc: 0.4719\n",
      "Epoch 64/100\n",
      "384s - loss: nan - acc: 0.3972 - val_loss: nan - val_acc: 0.4719\n",
      "Epoch 65/100\n",
      "384s - loss: nan - acc: 0.3978 - val_loss: nan - val_acc: 0.4719\n",
      "Epoch 66/100\n",
      "384s - loss: nan - acc: 0.3913 - val_loss: nan - val_acc: 0.4719\n",
      "Epoch 67/100\n",
      "384s - loss: nan - acc: 0.3949 - val_loss: nan - val_acc: 0.4719\n",
      "Epoch 68/100\n",
      "384s - loss: nan - acc: 0.3926 - val_loss: nan - val_acc: 0.4719\n",
      "Epoch 69/100\n",
      "384s - loss: nan - acc: 0.3991 - val_loss: nan - val_acc: 0.4719\n",
      "Epoch 70/100\n",
      "384s - loss: nan - acc: 0.3988 - val_loss: nan - val_acc: 0.4719\n",
      "Epoch 71/100\n",
      "384s - loss: nan - acc: 0.3981 - val_loss: nan - val_acc: 0.4719\n",
      "Epoch 72/100\n",
      "384s - loss: nan - acc: 0.3925 - val_loss: nan - val_acc: 0.4719\n",
      "Epoch 73/100\n",
      "384s - loss: nan - acc: 0.3976 - val_loss: nan - val_acc: 0.4719\n",
      "Epoch 74/100\n",
      "384s - loss: nan - acc: 0.3948 - val_loss: nan - val_acc: 0.4719\n",
      "Epoch 75/100\n",
      "384s - loss: nan - acc: 0.3983 - val_loss: nan - val_acc: 0.4719\n",
      "Epoch 76/100\n",
      "384s - loss: nan - acc: 0.3977 - val_loss: nan - val_acc: 0.4719\n",
      "Epoch 77/100\n",
      "384s - loss: nan - acc: 0.3992 - val_loss: nan - val_acc: 0.4719\n",
      "Epoch 78/100\n",
      "384s - loss: nan - acc: 0.3936 - val_loss: nan - val_acc: 0.4719\n",
      "Epoch 79/100\n",
      "385s - loss: nan - acc: 0.4003 - val_loss: nan - val_acc: 0.4719\n",
      "Epoch 80/100\n",
      "383s - loss: nan - acc: 0.4001 - val_loss: nan - val_acc: 0.4719\n",
      "Epoch 81/100\n",
      "383s - loss: nan - acc: 0.3934 - val_loss: nan - val_acc: 0.4719\n",
      "Epoch 82/100\n",
      "383s - loss: nan - acc: 0.3939 - val_loss: nan - val_acc: 0.4719\n",
      "Epoch 83/100\n",
      "383s - loss: nan - acc: 0.3960 - val_loss: nan - val_acc: 0.4719\n",
      "Epoch 84/100\n",
      "383s - loss: nan - acc: 0.3937 - val_loss: nan - val_acc: 0.4719\n",
      "Epoch 85/100\n",
      "383s - loss: nan - acc: 0.3942 - val_loss: nan - val_acc: 0.4719\n",
      "Epoch 86/100\n",
      "383s - loss: nan - acc: 0.3968 - val_loss: nan - val_acc: 0.4719\n",
      "Epoch 87/100\n",
      "383s - loss: nan - acc: 0.3962 - val_loss: nan - val_acc: 0.4719\n",
      "Epoch 88/100\n",
      "383s - loss: nan - acc: 0.3970 - val_loss: nan - val_acc: 0.4719\n",
      "Epoch 89/100\n",
      "383s - loss: nan - acc: 0.3912 - val_loss: nan - val_acc: 0.4719\n",
      "Epoch 90/100\n",
      "383s - loss: nan - acc: 0.3925 - val_loss: nan - val_acc: 0.4719\n",
      "Epoch 91/100\n",
      "383s - loss: nan - acc: 0.3923 - val_loss: nan - val_acc: 0.4719\n",
      "Epoch 92/100\n",
      "383s - loss: nan - acc: 0.3962 - val_loss: nan - val_acc: 0.4719\n",
      "Epoch 93/100\n",
      "383s - loss: nan - acc: 0.3981 - val_loss: nan - val_acc: 0.4719\n",
      "Epoch 94/100\n",
      "383s - loss: nan - acc: 0.3911 - val_loss: nan - val_acc: 0.4719\n",
      "Epoch 95/100\n",
      "383s - loss: nan - acc: 0.3976 - val_loss: nan - val_acc: 0.4719\n",
      "Epoch 96/100\n",
      "383s - loss: nan - acc: 0.3980 - val_loss: nan - val_acc: 0.4719\n",
      "Epoch 97/100\n",
      "383s - loss: nan - acc: 0.3955 - val_loss: nan - val_acc: 0.4719\n",
      "Epoch 98/100\n",
      "383s - loss: nan - acc: 0.4012 - val_loss: nan - val_acc: 0.4719\n",
      "Epoch 99/100\n",
      "383s - loss: nan - acc: 0.3930 - val_loss: nan - val_acc: 0.4719\n",
      "Epoch 100/100\n",
      "383s - loss: nan - acc: 0.3973 - val_loss: nan - val_acc: 0.4719\n"
     ]
    },
    {
     "data": {
      "text/plain": [
       "<keras.callbacks.History at 0x7f9fb123bf60>"
      ]
     },
     "execution_count": 38,
     "metadata": {},
     "output_type": "execute_result"
    }
   ],
   "source": [
    "# start the training process\n",
    "model.fit_generator(gen, rnd_trn, 100, verbose=2, \n",
    "                    validation_data=gen_val, nb_val_samples=rnd_val)"
   ]
  },
  {
   "cell_type": "code",
   "execution_count": 41,
   "metadata": {
    "collapsed": false
   },
   "outputs": [],
   "source": [
    "# Save network weights: \n",
    "model.save_weights(PATH+'results/tiramisu_cityscapes_net.h5')"
   ]
  },
  {
   "cell_type": "code",
   "execution_count": null,
   "metadata": {
    "collapsed": true
   },
   "outputs": [],
   "source": []
  }
 ],
 "metadata": {
  "kernelspec": {
   "display_name": "Python 3",
   "language": "python",
   "name": "python3"
  },
  "language_info": {
   "codemirror_mode": {
    "name": "ipython",
    "version": 3
   },
   "file_extension": ".py",
   "mimetype": "text/x-python",
   "name": "python",
   "nbconvert_exporter": "python",
   "pygments_lexer": "ipython3",
   "version": "3.5.2"
  },
  "widgets": {
   "state": {},
   "version": "1.1.2"
  }
 },
 "nbformat": 4,
 "nbformat_minor": 2
}
